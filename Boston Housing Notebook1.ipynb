{
 "metadata": {
  "name": "",
  "signature": "sha256:2afea05d137722c8cfebf260523ff17f749a70bb52411f504304b4ea33f6110b"
 },
 "nbformat": 3,
 "nbformat_minor": 0,
 "worksheets": [
  {
   "cells": [
    {
     "cell_type": "code",
     "collapsed": false,
     "input": [
      "from sklearn import datasets\n",
      "import pandas as pd\n",
      "from sklearn.preprocessing import StandardScaler\n",
      "from sklearn.cross_validation import train_test_split\n",
      "from sklearn.metrics import mean_squared_error\n",
      "from sklearn.metrics import r2_score\n",
      "from sklearn.linear_model import LinearRegression"
     ],
     "language": "python",
     "metadata": {},
     "outputs": [],
     "prompt_number": 1
    },
    {
     "cell_type": "code",
     "collapsed": false,
     "input": [
      "bean = datasets.load_boston()\n",
      "print bean.DESCR"
     ],
     "language": "python",
     "metadata": {},
     "outputs": [
      {
       "output_type": "stream",
       "stream": "stdout",
       "text": [
        "Boston House Prices dataset\n",
        "\n",
        "Notes\n",
        "------\n",
        "Data Set Characteristics:  \n",
        "\n",
        "    :Number of Instances: 506 \n",
        "\n",
        "    :Number of Attributes: 13 numeric/categorical predictive\n",
        "    \n",
        "    :Median Value (attribute 14) is usually the target\n",
        "\n",
        "    :Attribute Information (in order):\n",
        "        - CRIM     per capita crime rate by town\n",
        "        - ZN       proportion of residential land zoned for lots over 25,000 sq.ft.\n",
        "        - INDUS    proportion of non-retail business acres per town\n",
        "        - CHAS     Charles River dummy variable (= 1 if tract bounds river; 0 otherwise)\n",
        "        - NOX      nitric oxides concentration (parts per 10 million)\n",
        "        - RM       average number of rooms per dwelling\n",
        "        - AGE      proportion of owner-occupied units built prior to 1940\n",
        "        - DIS      weighted distances to five Boston employment centres\n",
        "        - RAD      index of accessibility to radial highways\n",
        "        - TAX      full-value property-tax rate per $10,000\n",
        "        - PTRATIO  pupil-teacher ratio by town\n",
        "        - B        1000(Bk - 0.63)^2 where Bk is the proportion of blacks by town\n",
        "        - LSTAT    % lower status of the population\n",
        "        - MEDV     Median value of owner-occupied homes in $1000's\n",
        "\n",
        "    :Missing Attribute Values: None\n",
        "\n",
        "    :Creator: Harrison, D. and Rubinfeld, D.L.\n",
        "\n",
        "This is a copy of UCI ML housing dataset.\n",
        "http://archive.ics.uci.edu/ml/datasets/Housing\n",
        "\n",
        "\n",
        "This dataset was taken from the StatLib library which is maintained at Carnegie Mellon University.\n",
        "\n",
        "The Boston house-price data of Harrison, D. and Rubinfeld, D.L. 'Hedonic\n",
        "prices and the demand for clean air', J. Environ. Economics & Management,\n",
        "vol.5, 81-102, 1978.   Used in Belsley, Kuh & Welsch, 'Regression diagnostics\n",
        "...', Wiley, 1980.   N.B. Various transformations are used in the table on\n",
        "pages 244-261 of the latter.\n",
        "\n",
        "The Boston house-price data has been used in many machine learning papers that address regression\n",
        "problems.   \n",
        "     \n",
        "**References**\n",
        "\n",
        "   - Belsley, Kuh & Welsch, 'Regression diagnostics: Identifying Influential Data and Sources of Collinearity', Wiley, 1980. 244-261.\n",
        "   - Quinlan,R. (1993). Combining Instance-Based and Model-Based Learning. In Proceedings on the Tenth International Conference of Machine Learning, 236-243, University of Massachusetts, Amherst. Morgan Kaufmann.\n",
        "   - many more! (see http://archive.ics.uci.edu/ml/datasets/Housing)\n",
        "\n"
       ]
      }
     ],
     "prompt_number": 2
    },
    {
     "cell_type": "code",
     "collapsed": false,
     "input": [
      "def load_boston():\n",
      "    scaler = StandardScaler()\n",
      "    boston = datasets.load_boston()\n",
      "    X=boston.data\n",
      "    y=boston.target\n",
      "    X = scaler.fit_transform(X)\n",
      "    return train_test_split(X,y)"
     ],
     "language": "python",
     "metadata": {},
     "outputs": [],
     "prompt_number": 3
    },
    {
     "cell_type": "code",
     "collapsed": false,
     "input": [
      "X_train, X_test, y_train, y_test = load_boston()"
     ],
     "language": "python",
     "metadata": {},
     "outputs": [],
     "prompt_number": 4
    },
    {
     "cell_type": "code",
     "collapsed": false,
     "input": [
      "X_train.shape"
     ],
     "language": "python",
     "metadata": {},
     "outputs": [
      {
       "metadata": {},
       "output_type": "pyout",
       "prompt_number": 5,
       "text": [
        "(379L, 13L)"
       ]
      }
     ],
     "prompt_number": 5
    },
    {
     "cell_type": "code",
     "collapsed": false,
     "input": [
      "clf = LinearRegression()\n",
      "clf.fit(X_train, y_train)"
     ],
     "language": "python",
     "metadata": {},
     "outputs": [
      {
       "metadata": {},
       "output_type": "pyout",
       "prompt_number": 6,
       "text": [
        "LinearRegression(copy_X=True, fit_intercept=True, normalize=False)"
       ]
      }
     ],
     "prompt_number": 6
    },
    {
     "cell_type": "code",
     "collapsed": false,
     "input": [
      "zip (y_test, clf.predict(X_test))"
     ],
     "language": "python",
     "metadata": {},
     "outputs": [
      {
       "metadata": {},
       "output_type": "pyout",
       "prompt_number": 7,
       "text": [
        "[(23.0, 23.80258361513577),\n",
        " (33.399999999999999, 36.007252537363755),\n",
        " (23.199999999999999, 21.80202135669894),\n",
        " (17.899999999999999, 0.17752473858374884),\n",
        " (22.199999999999999, 25.681751553614973),\n",
        " (42.299999999999997, 37.731683685676892),\n",
        " (31.699999999999999, 33.832234529133913),\n",
        " (23.100000000000001, 20.306557373830788),\n",
        " (19.0, 11.689615402026007),\n",
        " (23.800000000000001, 26.049354031394063),\n",
        " (29.800000000000001, 25.445059386742479),\n",
        " (22.5, 28.294995768888032),\n",
        " (23.0, 22.585538255337575),\n",
        " (23.100000000000001, 16.969686948282895),\n",
        " (31.100000000000001, 32.383618505207437),\n",
        " (21.800000000000001, 20.061325364630299),\n",
        " (33.200000000000003, 35.815390217470892),\n",
        " (21.899999999999999, 23.30999972853855),\n",
        " (36.5, 36.395488457078599),\n",
        " (21.199999999999999, 21.36124470775167),\n",
        " (24.800000000000001, 25.835991919263886),\n",
        " (24.600000000000001, 28.709666476376064),\n",
        " (10.199999999999999, 6.1795670194407357),\n",
        " (24.399999999999999, 23.323972783901819),\n",
        " (20.600000000000001, 20.106930118598328),\n",
        " (13.4, 14.976376953132016),\n",
        " (14.300000000000001, 15.40025162377847),\n",
        " (13.800000000000001, 19.805082987830392),\n",
        " (16.800000000000001, 20.274795246193285),\n",
        " (23.300000000000001, 26.177948750360109),\n",
        " (17.5, 16.950942567606347),\n",
        " (27.899999999999999, 31.360104192272381),\n",
        " (19.399999999999999, 19.772819665595456),\n",
        " (10.9, 19.606878851692116),\n",
        " (34.899999999999999, 29.955482207201634),\n",
        " (14.4, 4.432358257221825),\n",
        " (17.300000000000001, 17.211204250516644),\n",
        " (18.699999999999999, 17.178970906928186),\n",
        " (31.0, 35.455331160186702),\n",
        " (50.0, 20.280096993450918),\n",
        " (20.0, 17.896065301818009),\n",
        " (28.399999999999999, 30.584114143514569),\n",
        " (33.0, 24.413811354566693),\n",
        " (23.0, 29.306026787673858),\n",
        " (20.100000000000001, 21.08746535178615),\n",
        " (36.100000000000001, 33.780036358766857),\n",
        " (23.5, 29.506690207264118),\n",
        " (18.0, 19.359694529347369),\n",
        " (37.299999999999997, 34.415920555146023),\n",
        " (28.199999999999999, 32.583739740943258),\n",
        " (8.8000000000000007, 10.66261363475973),\n",
        " (21.100000000000001, 20.6111248857889),\n",
        " (12.5, 19.164458421867828),\n",
        " (27.5, 9.5218798212151672),\n",
        " (24.399999999999999, 28.598934600663767),\n",
        " (25.0, 24.618281456760769),\n",
        " (10.800000000000001, 11.152174011736946),\n",
        " (22.899999999999999, 20.494273669587571),\n",
        " (18.5, 24.731414805045496),\n",
        " (18.399999999999999, 15.464265769934602),\n",
        " (18.600000000000001, 16.188944335543894),\n",
        " (23.899999999999999, 26.055452905551626),\n",
        " (16.0, 17.858893373912068),\n",
        " (36.399999999999999, 33.145296042901073),\n",
        " (36.200000000000003, 27.640700443496371),\n",
        " (21.199999999999999, 21.365202778058354),\n",
        " (15.0, 27.080779328402031),\n",
        " (13.5, 10.626073151474834),\n",
        " (15.6, 12.522959764111331),\n",
        " (20.300000000000001, 23.209276511420551),\n",
        " (25.0, 27.887340123603479),\n",
        " (21.699999999999999, 24.480136859712953),\n",
        " (17.199999999999999, 16.260078965795547),\n",
        " (13.1, 11.840723832157183),\n",
        " (36.0, 37.086664257369257),\n",
        " (43.5, 40.084310783334892),\n",
        " (50.0, 23.96770140971141),\n",
        " (19.399999999999999, 16.724370245870841),\n",
        " (24.100000000000001, 25.574968943485402),\n",
        " (15.699999999999999, 15.300945393279491),\n",
        " (15.199999999999999, 16.381988461381269),\n",
        " (19.399999999999999, 24.437393323576682),\n",
        " (11.0, 12.960288864647652),\n",
        " (23.300000000000001, 21.362763775508522),\n",
        " (12.699999999999999, 10.25375924952252),\n",
        " (21.699999999999999, 21.097134231449271),\n",
        " (21.699999999999999, 20.715420297404108),\n",
        " (23.899999999999999, 25.141162799859121),\n",
        " (13.5, 13.625790805771654),\n",
        " (50.0, 43.984207918429476),\n",
        " (27.5, 19.968894444431534),\n",
        " (22.0, 26.508460262281098),\n",
        " (5.0, 13.736527302597977),\n",
        " (13.1, 17.793428746633261),\n",
        " (19.100000000000001, 15.979691970049487),\n",
        " (22.0, 27.398566641198297),\n",
        " (24.199999999999999, 25.562380624042717),\n",
        " (33.399999999999999, 29.233782842888232),\n",
        " (18.5, 13.005984409164197),\n",
        " (24.100000000000001, 20.238395899043852),\n",
        " (14.1, 14.161817189298223),\n",
        " (20.100000000000001, 15.521294973850505),\n",
        " (23.100000000000001, 24.538392760494652),\n",
        " (15.199999999999999, 19.257458382290469),\n",
        " (22.699999999999999, 20.8934707538948),\n",
        " (9.6999999999999993, 9.2574238361895294),\n",
        " (25.100000000000001, 29.792304043050439),\n",
        " (20.600000000000001, 18.158079477823339),\n",
        " (18.399999999999999, 18.180574487576997),\n",
        " (19.5, 19.37542030191285),\n",
        " (18.699999999999999, 20.613026243662997),\n",
        " (22.600000000000001, 27.230148541258526),\n",
        " (15.6, 15.714311435274283),\n",
        " (19.300000000000001, 16.693581906527754),\n",
        " (15.4, 15.087027393013827),\n",
        " (14.9, 16.485901295582423),\n",
        " (48.799999999999997, 42.795693178634579),\n",
        " (24.399999999999999, 24.271752015040338),\n",
        " (10.4, 23.168294449810833),\n",
        " (18.199999999999999, 17.933631934996541),\n",
        " (11.5, 13.21984265270183),\n",
        " (13.4, 14.920377596561767),\n",
        " (23.899999999999999, 26.886917676046856),\n",
        " (21.0, 21.568757807336478),\n",
        " (13.6, 13.568330790922516),\n",
        " (13.300000000000001, 14.019104029201277),\n",
        " (33.100000000000001, 33.048764992127175)]"
       ]
      }
     ],
     "prompt_number": 7
    },
    {
     "cell_type": "code",
     "collapsed": false,
     "input": [
      "from sklearn.datasets import *\n",
      "data = load_boston()\n",
      "print data.DESR"
     ],
     "language": "python",
     "metadata": {},
     "outputs": [
      {
       "ename": "AttributeError",
       "evalue": "'Bunch' object has no attribute 'DESR'",
       "output_type": "pyerr",
       "traceback": [
        "\u001b[1;31m---------------------------------------------------------------------------\u001b[0m\n\u001b[1;31mAttributeError\u001b[0m                            Traceback (most recent call last)",
        "\u001b[1;32m<ipython-input-8-9b48c6868d0c>\u001b[0m in \u001b[0;36m<module>\u001b[1;34m()\u001b[0m\n\u001b[0;32m      1\u001b[0m \u001b[1;32mfrom\u001b[0m \u001b[0msklearn\u001b[0m\u001b[1;33m.\u001b[0m\u001b[0mdatasets\u001b[0m \u001b[1;32mimport\u001b[0m \u001b[1;33m*\u001b[0m\u001b[1;33m\u001b[0m\u001b[0m\n\u001b[0;32m      2\u001b[0m \u001b[0mdata\u001b[0m \u001b[1;33m=\u001b[0m \u001b[0mload_boston\u001b[0m\u001b[1;33m(\u001b[0m\u001b[1;33m)\u001b[0m\u001b[1;33m\u001b[0m\u001b[0m\n\u001b[1;32m----> 3\u001b[1;33m \u001b[1;32mprint\u001b[0m \u001b[0mdata\u001b[0m\u001b[1;33m.\u001b[0m\u001b[0mDESR\u001b[0m\u001b[1;33m\u001b[0m\u001b[0m\n\u001b[0m",
        "\u001b[1;31mAttributeError\u001b[0m: 'Bunch' object has no attribute 'DESR'"
       ]
      }
     ],
     "prompt_number": 8
    },
    {
     "cell_type": "code",
     "collapsed": false,
     "input": [
      "from sklearn.datasets import *\n",
      "from sklearn.linear_model import LinearRegression\n",
      "\n",
      "data = load_boston()\n",
      "model = LinearRegression()\n",
      "model.fit(data.data, data.target)\n",
      "print model.__dict__\n",
      "print model.score(data.data, data.target)"
     ],
     "language": "python",
     "metadata": {},
     "outputs": [
      {
       "output_type": "stream",
       "stream": "stdout",
       "text": [
        "{'normalize': False, 'intercept_': 36.491103280361422, 'residues_': 11080.276284149875, 'fit_intercept': True, 'coef_': array([ -1.07170557e-01,   4.63952195e-02,   2.08602395e-02,\n",
        "         2.68856140e+00,  -1.77957587e+01,   3.80475246e+00,\n",
        "         7.51061703e-04,  -1.47575880e+00,   3.05655038e-01,\n",
        "        -1.23293463e-02,  -9.53463555e-01,   9.39251272e-03,\n",
        "        -5.25466633e-01]), 'copy_X': True, 'rank_': 13, 'singular_': array([  3.94958310e+03,   1.77662274e+03,   6.42864253e+02,\n",
        "         3.66980826e+02,   1.59116390e+02,   1.18692322e+02,\n",
        "         9.01718207e+01,   6.93889529e+01,   4.06572735e+01,\n",
        "         2.44223087e+01,   1.13502686e+01,   5.50918200e+00,\n",
        "         1.24178413e+00])}\n",
        "0.740607742865\n"
       ]
      }
     ],
     "prompt_number": 9
    },
    {
     "cell_type": "code",
     "collapsed": false,
     "input": [
      "from sklearn.datasets import *\n",
      "from sklearn.cross_validation import train_test_split\n",
      "\n",
      "data = load_boston()\n",
      "\n",
      "X_train, X_test, y_train, y_test = train_test_split(data.data, data.target, train_size=0.5)\n",
      "model = LinearRegression()\n",
      "model.fit(X_train, y_train)\n",
      "print \"Train R2 %f\" %model.score(X_train, y_train)\n",
      "print \"Test R2 %f\" %model.score(X_test, y_test)"
     ],
     "language": "python",
     "metadata": {},
     "outputs": [
      {
       "output_type": "stream",
       "stream": "stdout",
       "text": [
        "Train R2 0.745611\n",
        "Test R2 0.707013\n"
       ]
      }
     ],
     "prompt_number": 10
    },
    {
     "cell_type": "code",
     "collapsed": false,
     "input": [
      "#mean sqared error\n",
      "from sklearn.metrics import mean_squared_error\n",
      "y_true = [6, -0.4, 6, 12]\n",
      "y_pred = [6.7, 0.7, 2, 8]\n",
      "mean_squared_error(y_true, y_pred)"
     ],
     "language": "python",
     "metadata": {},
     "outputs": [
      {
       "metadata": {},
       "output_type": "pyout",
       "prompt_number": 11,
       "text": [
        "8.4250000000000007"
       ]
      }
     ],
     "prompt_number": 11
    },
    {
     "cell_type": "code",
     "collapsed": false,
     "input": [
      "y_true = [[0.4, 5],[-2, 4],[5, -4]]\n",
      "y_pred = [[0, 3],[-1, 4],[6, -5]]\n",
      "mean_squared_error(y_true, y_pred)"
     ],
     "language": "python",
     "metadata": {},
     "outputs": [
      {
       "metadata": {},
       "output_type": "pyout",
       "prompt_number": 12,
       "text": [
        "1.1933333333333334"
       ]
      }
     ],
     "prompt_number": 12
    },
    {
     "cell_type": "code",
     "collapsed": false,
     "input": [
      "#using linear regularization sklearn.linear_model.Lasso\n",
      "from sklearn import linear_model\n",
      "clf = linear_model.Lasso(alpha=0.1)\n",
      "clf.fit([[0,2], [2, 5], [3, 2]], [0, 1, 2])"
     ],
     "language": "python",
     "metadata": {},
     "outputs": [
      {
       "metadata": {},
       "output_type": "pyout",
       "prompt_number": 13,
       "text": [
        "Lasso(alpha=0.1, copy_X=True, fit_intercept=True, max_iter=1000,\n",
        "   normalize=False, positive=False, precompute='auto', tol=0.0001,\n",
        "   warm_start=False)"
       ]
      }
     ],
     "prompt_number": 13
    },
    {
     "cell_type": "code",
     "collapsed": false,
     "input": [
      "print(clf.coef_)"
     ],
     "language": "python",
     "metadata": {},
     "outputs": [
      {
       "output_type": "stream",
       "stream": "stdout",
       "text": [
        "[ 0.58888842 -0.04814807]\n"
       ]
      }
     ],
     "prompt_number": 14
    },
    {
     "cell_type": "code",
     "collapsed": false,
     "input": [
      "print(clf.intercept_)"
     ],
     "language": "python",
     "metadata": {},
     "outputs": [
      {
       "output_type": "stream",
       "stream": "stdout",
       "text": [
        "0.162963511297\n"
       ]
      }
     ],
     "prompt_number": 15
    },
    {
     "cell_type": "code",
     "collapsed": false,
     "input": [
      "from sklearn import linear_model\n",
      "clfA = linear_model.Lasso(alpha=1.0)\n",
      "clfA.fit([[0,0], [1, 4], [2, 4]], [0, 1, 2])"
     ],
     "language": "python",
     "metadata": {},
     "outputs": [
      {
       "metadata": {},
       "output_type": "pyout",
       "prompt_number": 16,
       "text": [
        "Lasso(alpha=1.0, copy_X=True, fit_intercept=True, max_iter=1000,\n",
        "   normalize=False, positive=False, precompute='auto', tol=0.0001,\n",
        "   warm_start=False)"
       ]
      }
     ],
     "prompt_number": 16
    },
    {
     "cell_type": "code",
     "collapsed": false,
     "input": [
      "clfB = linear_model.Lasso(alpha=10.0)\n",
      "clfB.fit([[0,0], [1, 2], [2, 4]], [0, 1, 2])"
     ],
     "language": "python",
     "metadata": {},
     "outputs": [
      {
       "metadata": {},
       "output_type": "pyout",
       "prompt_number": 17,
       "text": [
        "Lasso(alpha=10.0, copy_X=True, fit_intercept=True, max_iter=1000,\n",
        "   normalize=False, positive=False, precompute='auto', tol=0.0001,\n",
        "   warm_start=False)"
       ]
      }
     ],
     "prompt_number": 17
    },
    {
     "cell_type": "code",
     "collapsed": false,
     "input": [
      "from sklearn.linear_model import Ridge\n",
      "import numpy as np\n",
      "n_samples, n_features = 9, 6\n",
      "np.random.seed(0)\n",
      "y = np.random.randn(n_samples)\n",
      "X = np.random.randn(n_samples, n_features)\n",
      "clf = Ridge(alpha=1.0)\n",
      "clf.fit(X, y) \n",
      "Ridge(alpha=1.0, copy_X=True, fit_intercept=True, max_iter=None,\n",
      "      normalize=False, solver='auto', tol=0.002)"
     ],
     "language": "python",
     "metadata": {},
     "outputs": [
      {
       "metadata": {},
       "output_type": "pyout",
       "prompt_number": 18,
       "text": [
        "Ridge(alpha=1.0, copy_X=True, fit_intercept=True, max_iter=None,\n",
        "   normalize=False, solver='auto', tol=0.002)"
       ]
      }
     ],
     "prompt_number": 18
    },
    {
     "cell_type": "code",
     "collapsed": false,
     "input": [
      "I have learned so much from this lab and tried my level best to complete this Lab."
     ],
     "language": "python",
     "metadata": {},
     "outputs": []
    }
   ],
   "metadata": {}
  }
 ]
}